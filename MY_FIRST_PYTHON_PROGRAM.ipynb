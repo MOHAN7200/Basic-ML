{
  "nbformat": 4,
  "nbformat_minor": 0,
  "metadata": {
    "colab": {
      "name": "MY FIRST PYTHON PROGRAM.ipynb",
      "provenance": [],
      "authorship_tag": "ABX9TyOPyrt9A/DtgqFUHb6RVdkd",
      "include_colab_link": true
    },
    "kernelspec": {
      "name": "python3",
      "display_name": "Python 3"
    },
    "language_info": {
      "name": "python"
    }
  },
  "cells": [
    {
      "cell_type": "markdown",
      "metadata": {
        "id": "view-in-github",
        "colab_type": "text"
      },
      "source": [
        "<a href=\"https://colab.research.google.com/github/MOHAN7200/Basic-ML/blob/main/MY_FIRST_PYTHON_PROGRAM.ipynb\" target=\"_parent\"><img src=\"https://colab.research.google.com/assets/colab-badge.svg\" alt=\"Open In Colab\"/></a>"
      ]
    },
    {
      "cell_type": "code",
      "metadata": {
        "id": "JockvwttbvHp"
      },
      "source": [
        ""
      ],
      "execution_count": null,
      "outputs": []
    },
    {
      "cell_type": "markdown",
      "metadata": {
        "id": "UMwz9ZBLbw4L"
      },
      "source": [
        "1. PROGRAM ON SUM OF TWO NUMBERS"
      ]
    },
    {
      "cell_type": "code",
      "metadata": {
        "colab": {
          "base_uri": "https://localhost:8080/"
        },
        "id": "p5PivcG0b3gX",
        "outputId": "2b700cbf-0c52-4783-f15a-df26998a4094"
      },
      "source": [
        "a=10\n",
        "b=20\n",
        "c=a+b\n",
        "print(\"Sum of two numbers=\",c)"
      ],
      "execution_count": 1,
      "outputs": [
        {
          "output_type": "stream",
          "text": [
            "Sum of two numbers= 30\n"
          ],
          "name": "stdout"
        }
      ]
    },
    {
      "cell_type": "markdown",
      "metadata": {
        "id": "K6fYyaLCcB8N"
      },
      "source": [
        "2 . PRINT NUMBERS UPTO N"
      ]
    },
    {
      "cell_type": "code",
      "metadata": {
        "colab": {
          "base_uri": "https://localhost:8080/"
        },
        "id": "pGJyrAQVcTY-",
        "outputId": "2868a20f-3db4-4e5b-cca9-a1c3f85f0628"
      },
      "source": [
        "n=10\n",
        "for i in range(1,11):\n",
        "  print(i)"
      ],
      "execution_count": 2,
      "outputs": [
        {
          "output_type": "stream",
          "text": [
            "1\n",
            "2\n",
            "3\n",
            "4\n",
            "5\n",
            "6\n",
            "7\n",
            "8\n",
            "9\n",
            "10\n"
          ],
          "name": "stdout"
        }
      ]
    },
    {
      "cell_type": "code",
      "metadata": {
        "id": "ipuQPsB2cjXQ"
      },
      "source": [
        "3 . SUM OF DIGITS OF A ANUMBER"
      ],
      "execution_count": null,
      "outputs": []
    },
    {
      "cell_type": "code",
      "metadata": {
        "colab": {
          "base_uri": "https://localhost:8080/"
        },
        "id": "s6qLW7-rco4X",
        "outputId": "11864211-a73e-49e9-d020-059d341b8bc9"
      },
      "source": [
        "n=164\n",
        "sum=0\n",
        "while(n!=0):\n",
        "  a=n%10\n",
        "  sum+=a\n",
        "  n=n//10\n",
        "print(sum)"
      ],
      "execution_count": 4,
      "outputs": [
        {
          "output_type": "stream",
          "text": [
            "11\n"
          ],
          "name": "stdout"
        }
      ]
    }
  ]
}